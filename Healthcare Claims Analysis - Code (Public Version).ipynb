{
 "cells": [
  {
   "cell_type": "code",
   "execution_count": null,
   "id": "2b2b902e",
   "metadata": {},
   "outputs": [],
   "source": [
    "# imports\n",
    "import pandas as pd\n",
    "import numpy as np\n",
    "import matplotlib.pyplot as plt\n",
    "import paramiko"
   ]
  },
  {
   "cell_type": "code",
   "execution_count": null,
   "id": "362d7464",
   "metadata": {},
   "outputs": [],
   "source": [
    "# connect to remote sftp server to retrieve file\n",
    "# credentials removed for security\n",
    "\n",
    "client = paramiko.SSHClient()\n",
    "# automatically add keys without requiring human intervention\n",
    "client.set_missing_host_key_policy( paramiko.AutoAddPolicy() )\n",
    "\n",
    "client.connect(sftp_url, port=22, username=sftp_user, password=sftp_pass)\n",
    "\n",
    "sftp = client.open_sftp()\n",
    "files = sftp.listdir()\n",
    "\n",
    "# lists all the folders in the directory after connecting through the sftp\n",
    "print(files)"
   ]
  },
  {
   "cell_type": "code",
   "execution_count": null,
   "id": "2d1ba1a6",
   "metadata": {},
   "outputs": [],
   "source": [
    "# read file to memory from the sftp server\n",
    "with sftp.open('/home/jsinger/hue-health/healthcare_claims_data.xlsx') as f:\n",
    "    f.prefetch()\n",
    "    # we have two sheets in the Excel file; save them as two variables\n",
    "    claims_data_pre65 = pd.read_excel(f, sheet_name='Pre65')\n",
    "    claims_data_post65 = pd.read_excel(f, sheet_name='Post65')"
   ]
  },
  {
   "cell_type": "code",
   "execution_count": null,
   "id": "3a919595",
   "metadata": {},
   "outputs": [],
   "source": [
    "# increase the number of columns displayed in this notebook to 100\n",
    "pd.options.display.max_columns = 100"
   ]
  },
  {
   "cell_type": "code",
   "execution_count": null,
   "id": "2797fff1",
   "metadata": {},
   "outputs": [],
   "source": [
    "claims_data_pre65.columns == claims_data_post65.columns"
   ]
  },
  {
   "cell_type": "code",
   "execution_count": null,
   "id": "36d52dbf",
   "metadata": {},
   "outputs": [],
   "source": [
    "# both sheets contain the same features, so we'll combine them into one dataframe\n",
    "# first, let's add a column to each df to keep track of the original sheet\n",
    "claims_data_pre65['sheet_name'] = 'Pre65'\n",
    "claims_data_post65['sheet_name'] = 'Post65'\n",
    "\n",
    "# next, we'll combine the two sheets of data into one df and reset the index\n",
    "claims_data = pd.concat([claims_data_pre65,claims_data_post65], axis=0, ignore_index=True)"
   ]
  },
  {
   "cell_type": "code",
   "execution_count": null,
   "id": "43851741",
   "metadata": {},
   "outputs": [],
   "source": [
    "claims_data.head()"
   ]
  },
  {
   "cell_type": "code",
   "execution_count": null,
   "id": "79594175",
   "metadata": {},
   "outputs": [],
   "source": [
    "claims_data['sheet_name'].value_counts()"
   ]
  },
  {
   "cell_type": "code",
   "execution_count": null,
   "id": "d55b4f6c",
   "metadata": {
    "scrolled": true
   },
   "outputs": [],
   "source": [
    "claims_data.info()"
   ]
  },
  {
   "cell_type": "code",
   "execution_count": null,
   "id": "92537d1a",
   "metadata": {
    "scrolled": true
   },
   "outputs": [],
   "source": [
    "claims_data.isnull().sum()"
   ]
  },
  {
   "cell_type": "code",
   "execution_count": null,
   "id": "d8302182",
   "metadata": {
    "scrolled": true
   },
   "outputs": [],
   "source": [
    "claims_data.dtypes"
   ]
  },
  {
   "cell_type": "code",
   "execution_count": null,
   "id": "97421363",
   "metadata": {},
   "outputs": [],
   "source": [
    "# converting LINE_NO and MEMBER_ID columns to object type\n",
    "claims_data['LINE_NO'] = claims_data['LINE_NO'].astype('object')\n",
    "claims_data['MEMBER_ID'] = claims_data['MEMBER_ID'].astype('object')"
   ]
  },
  {
   "cell_type": "code",
   "execution_count": null,
   "id": "361e57f6",
   "metadata": {
    "scrolled": true
   },
   "outputs": [],
   "source": [
    "claims_data.describe(include='all').loc[['unique'],['LINE_NO','CLAIM_ID','MEMBER_ID']]"
   ]
  },
  {
   "cell_type": "markdown",
   "id": "41ecdb0c",
   "metadata": {},
   "source": [
    "The 1,052,150 line items (services) account for 477,389 claims across 34,985 members."
   ]
  },
  {
   "cell_type": "markdown",
   "id": "c2af3f19",
   "metadata": {},
   "source": [
    "## Initial Data Cleaning & Data Quality Check"
   ]
  },
  {
   "cell_type": "markdown",
   "id": "bfe4f384",
   "metadata": {},
   "source": [
    "Let's drop the following columns that have all missing values:\n",
    " * Re-Priced\\nAmount\n",
    " * Provider In\\nPPO Network\\n(Yes / No)\n",
    " * Not Re-Priced\\n(Indicate w/ \"x\")\n",
    " * Capitated (Y/N)\n",
    " * Capitation Description\n",
    " \n",
    "Let's also drop the following columns that will not be useful for our analysis:\n",
    " * PROV_TIN\n",
    " * PROV_ADDR1\n",
    " * PROV_ADDR2"
   ]
  },
  {
   "cell_type": "code",
   "execution_count": null,
   "id": "7818b1b1",
   "metadata": {},
   "outputs": [],
   "source": [
    "# drop columns\n",
    "drop_columns = ['Re-Priced\\nAmount', 'Provider In\\nPPO Network\\n(Yes / No)', 'Not Re-Priced\\n(Indicate w/ \"x\")',\n",
    "               'Capitated (Y/N)', 'Capitation Description', 'PROV_TIN', 'PROV_ADDR1', 'PROV_ADDR2']\n",
    "\n",
    "claims_data.drop(drop_columns, axis=1, inplace=True)"
   ]
  },
  {
   "cell_type": "code",
   "execution_count": null,
   "id": "77982fb9",
   "metadata": {},
   "outputs": [],
   "source": [
    "claims_data.head()"
   ]
  },
  {
   "cell_type": "markdown",
   "id": "05c99e25",
   "metadata": {},
   "source": [
    "Let's do a quick data quality check on the following features:\n",
    " * CLAIM_TYPE: should be either Professional (PR) or Institutional (IN)\n",
    " * UB_BILL_TYPE: should be 3 digits/characters. See [here](https://med.noridianmedicare.com/web/jea/topics/claim-submission/bill-types) for reference"
   ]
  },
  {
   "cell_type": "code",
   "execution_count": null,
   "id": "c562ef3f",
   "metadata": {},
   "outputs": [],
   "source": [
    "claims_data['CLAIM_TYPE'].value_counts()"
   ]
  },
  {
   "cell_type": "code",
   "execution_count": null,
   "id": "81ae6a37",
   "metadata": {},
   "outputs": [],
   "source": [
    "bill_type_wrong_count = 0\n",
    "for value in claims_data['UB_BILL_TYPE']:\n",
    "    if np.nan:\n",
    "        pass\n",
    "    elif len(value) != 3:\n",
    "        bill_type_wrong_count += 1\n",
    "        \n",
    "bill_type_wrong_count"
   ]
  },
  {
   "cell_type": "code",
   "execution_count": null,
   "id": "62bed990",
   "metadata": {},
   "outputs": [],
   "source": [
    "claims_data['UB_BILL_TYPE'].unique()"
   ]
  },
  {
   "cell_type": "code",
   "execution_count": null,
   "id": "1d69419c",
   "metadata": {
    "scrolled": true
   },
   "outputs": [],
   "source": [
    "claims_data.isnull().sum()"
   ]
  },
  {
   "cell_type": "markdown",
   "id": "dd4778c5",
   "metadata": {},
   "source": [
    "## Patient Stratification"
   ]
  },
  {
   "cell_type": "markdown",
   "id": "0ad49f90",
   "metadata": {},
   "source": [
    "Since we'd like to stratify members by number of services provided and total charges, need to restructure data to format where each row represents one member."
   ]
  },
  {
   "cell_type": "code",
   "execution_count": null,
   "id": "95b44ffd",
   "metadata": {},
   "outputs": [],
   "source": [
    "# per member, calculate the number of line items (services), unique claims, and total charges\n",
    "member_group = claims_data.groupby('MEMBER_ID').aggregate({'LINE_NO': lambda x: len(x.unique()),\n",
    "                                            'CLAIM_ID': lambda x: len(x.unique()),'Eligible Charges': np.sum})\n",
    "member_group"
   ]
  },
  {
   "cell_type": "code",
   "execution_count": null,
   "id": "99cba5bf",
   "metadata": {
    "scrolled": true
   },
   "outputs": [],
   "source": [
    "member_group.corr()"
   ]
  },
  {
   "cell_type": "code",
   "execution_count": null,
   "id": "afb08b8d",
   "metadata": {},
   "outputs": [],
   "source": [
    "plt.scatter(member_group['LINE_NO'],member_group['CLAIM_ID'])\n",
    "plt.title('Per member number of line items by number of claims')\n",
    "plt.xlabel('Number of Line Items')\n",
    "plt.ylabel('Number of Claims')\n",
    "plt.show()"
   ]
  },
  {
   "cell_type": "markdown",
   "id": "a2be3796",
   "metadata": {},
   "source": [
    "Since our data is at the line (service) level rather than the claim level, and the correlation between number of line items and charges is stronger than that between number of claims and charges, we'll use the LINE_NO feature for our model. Further, the per member number of line items correlates strongly with the per member number of claims, so we likely wouldn't see much difference in clusters if grouping at the claim level."
   ]
  },
  {
   "cell_type": "code",
   "execution_count": null,
   "id": "54085176",
   "metadata": {},
   "outputs": [],
   "source": [
    "member_group = claims_data.groupby('MEMBER_ID').aggregate({'LINE_NO': lambda x: len(x.unique()),\n",
    "                                                           'Eligible Charges': np.sum})\n",
    "member_group.rename(columns={'LINE_NO':'Num Lines'}, inplace=True)\n",
    "member_group"
   ]
  },
  {
   "cell_type": "code",
   "execution_count": null,
   "id": "d5c71169",
   "metadata": {},
   "outputs": [],
   "source": [
    "# visualize Num Lines v. Eligible Charges\n",
    "plt.figure(figsize=(6,6))\n",
    "plt.scatter(member_group['Num Lines'],member_group['Eligible Charges'])\n",
    "plt.title('Per member number of line items by total charges')\n",
    "plt.xlabel('Number of Line Items')\n",
    "plt.ylabel('Total Charges')\n",
    "plt.ticklabel_format(style='plain')\n",
    "\n",
    "plt.show()"
   ]
  },
  {
   "cell_type": "code",
   "execution_count": null,
   "id": "e2d8b373",
   "metadata": {},
   "outputs": [],
   "source": [
    "member_group.plot.scatter(x='Num Lines', y='Eligible Charges',alpha=0.3,figsize=(6,6))\n",
    "plt.ticklabel_format(style='plain')\n",
    "plt.title('Per member number of line items by total charges')\n",
    "plt.xlabel('Number of Line Items')\n",
    "plt.ylabel('Total Charges');"
   ]
  },
  {
   "cell_type": "code",
   "execution_count": null,
   "id": "815b95bc",
   "metadata": {
    "scrolled": true
   },
   "outputs": [],
   "source": [
    "member_group.describe(percentiles=[0.05,0.1,0.25,0.5,0.75,0.9,0.95])"
   ]
  },
  {
   "cell_type": "markdown",
   "id": "64c74cd2",
   "metadata": {},
   "source": [
    "## K-Means Clustering"
   ]
  },
  {
   "cell_type": "markdown",
   "id": "fb046b37",
   "metadata": {},
   "source": [
    "Let's use the Elbow Method to get an idea of what a good k number of clusters would be, by evaluating the sum of squared distance (SSE) between data points and their assigned clusters' centroids. "
   ]
  },
  {
   "cell_type": "code",
   "execution_count": null,
   "id": "e2f05ee2",
   "metadata": {},
   "outputs": [],
   "source": [
    "from sklearn.cluster import KMeans"
   ]
  },
  {
   "cell_type": "code",
   "execution_count": null,
   "id": "fdc9311e",
   "metadata": {},
   "outputs": [],
   "source": [
    "# Run the Kmeans algorithm and get the index of data points clusters\n",
    "sse = []\n",
    "list_k = list(range(1, 10))\n",
    "\n",
    "for k in list_k:\n",
    "    km = KMeans(n_clusters=k)\n",
    "    km.fit(member_group[['Num Lines', 'Eligible Charges']])\n",
    "    sse.append(km.inertia_)\n",
    "\n",
    "# Plot sse against k\n",
    "plt.figure(figsize=(6, 6))\n",
    "plt.plot(list_k, sse, '-o')\n",
    "plt.xlabel(r'Number of clusters *k*')\n",
    "plt.ylabel('Sum of squared distance');"
   ]
  },
  {
   "cell_type": "markdown",
   "id": "64053795",
   "metadata": {},
   "source": [
    "Looks like k between 3 and 5 would be reasonable choices for number of clusters. Let's run and visualize kmeans models for k= 3, 4 and 5."
   ]
  },
  {
   "cell_type": "code",
   "execution_count": null,
   "id": "b2f16b52",
   "metadata": {},
   "outputs": [],
   "source": [
    "# fit kmeans model\n",
    "def kmeans_model(k):\n",
    "    km = KMeans(n_clusters=k, random_state=1)\n",
    "    km.fit(member_group[['Num Lines', 'Eligible Charges']])\n",
    "    return km"
   ]
  },
  {
   "cell_type": "code",
   "execution_count": null,
   "id": "0df184d2",
   "metadata": {},
   "outputs": [],
   "source": [
    "km_3 = kmeans_model(3)\n",
    "km_4 = kmeans_model(4)\n",
    "km_5 = kmeans_model(5)"
   ]
  },
  {
   "cell_type": "code",
   "execution_count": null,
   "id": "2f7a54eb",
   "metadata": {},
   "outputs": [],
   "source": [
    "# add columns with cluster labels to the member_group dataframe\n",
    "member_group['cluster_3'] = km_3.labels_\n",
    "member_group['cluster_4'] = km_4.labels_\n",
    "member_group['cluster_5'] = km_5.labels_"
   ]
  },
  {
   "cell_type": "code",
   "execution_count": null,
   "id": "be947a2f",
   "metadata": {},
   "outputs": [],
   "source": [
    "member_group.head()"
   ]
  },
  {
   "cell_type": "code",
   "execution_count": null,
   "id": "4e85eefd",
   "metadata": {},
   "outputs": [],
   "source": [
    "member_group['cluster_3'].value_counts(normalize=True)*100"
   ]
  },
  {
   "cell_type": "code",
   "execution_count": null,
   "id": "b2af5933",
   "metadata": {},
   "outputs": [],
   "source": [
    "member_group['cluster_4'].value_counts(normalize=True)*100"
   ]
  },
  {
   "cell_type": "code",
   "execution_count": null,
   "id": "3bda9251",
   "metadata": {},
   "outputs": [],
   "source": [
    "member_group['cluster_5'].value_counts(normalize=True)*100"
   ]
  },
  {
   "cell_type": "code",
   "execution_count": null,
   "id": "66f5477b",
   "metadata": {},
   "outputs": [],
   "source": [
    "# Visualizing clusters\n",
    "def visualize_clusters(df, num_clusters, col_name, centroids):\n",
    "    colors = ['b', 'g', 'r', 'c', 'm', 'y', 'k']\n",
    "\n",
    "    for n in range(num_clusters):\n",
    "        clustered_df = df[df[col_name] == n]\n",
    "        plt.scatter(clustered_df['Num Lines'], clustered_df['Eligible Charges'], c=colors[n-1])\n",
    "        plt.scatter(centroids[:,0], centroids[:,1], c='y', marker='*', s=100)\n",
    "        plt.xlabel('Number of Line Items', fontsize=13)\n",
    "        plt.ylabel('Total Charges', fontsize=13)\n",
    "        plt.ticklabel_format(style='plain')\n",
    "    plt.show()"
   ]
  },
  {
   "cell_type": "code",
   "execution_count": null,
   "id": "37f2b913",
   "metadata": {},
   "outputs": [],
   "source": [
    "visualize_clusters(member_group,3,'cluster_3',km_3.cluster_centers_)"
   ]
  },
  {
   "cell_type": "code",
   "execution_count": null,
   "id": "875b08b6",
   "metadata": {},
   "outputs": [],
   "source": [
    "visualize_clusters(member_group,4,'cluster_4',km_4.cluster_centers_)"
   ]
  },
  {
   "cell_type": "code",
   "execution_count": null,
   "id": "ca1ca7eb",
   "metadata": {},
   "outputs": [],
   "source": [
    "visualize_clusters(member_group,5,'cluster_5',km_5.cluster_centers_)"
   ]
  },
  {
   "cell_type": "code",
   "execution_count": null,
   "id": "06f9083b",
   "metadata": {},
   "outputs": [],
   "source": [
    "# centroids for each cluster for km_4\n",
    "np.set_printoptions(suppress=True) # suppress scientific notation\n",
    "km_4.cluster_centers_"
   ]
  },
  {
   "cell_type": "markdown",
   "id": "a9da9c54",
   "metadata": {},
   "source": [
    "Since we'll use the kmeans model with 4 clusters, let's drop the cluster_3 and cluster_5 columns from our df, and rename the column to 'cluster'."
   ]
  },
  {
   "cell_type": "code",
   "execution_count": null,
   "id": "f13d0269",
   "metadata": {},
   "outputs": [],
   "source": [
    "member_group_cluster = member_group.drop(['cluster_3','cluster_5'],axis=1)\n",
    "member_group_cluster.rename(columns={'cluster_4':'cluster'},inplace=True)\n",
    "member_group_cluster"
   ]
  },
  {
   "cell_type": "code",
   "execution_count": null,
   "id": "df7b82e8",
   "metadata": {},
   "outputs": [],
   "source": [
    "member_group_cluster['cluster'].value_counts(normalize=True)*100"
   ]
  },
  {
   "cell_type": "markdown",
   "id": "74898ae6",
   "metadata": {},
   "source": [
    "The clusters generated by the km_4 model don't appear to align with our healthcare-specific expectations of the following groups of patients:\n",
    " * Low cost, low utilizers\n",
    " * Low cost, high utilizers\n",
    " * High cost, low utilizers\n",
    " * High cost, high utilizers\n",
    " \n",
    "So, we'll manually stratify our patient population by setting bounds we think are more appropriate."
   ]
  },
  {
   "cell_type": "markdown",
   "id": "f1ed0caa",
   "metadata": {},
   "source": [
    "## Manual Stratification"
   ]
  },
  {
   "cell_type": "code",
   "execution_count": null,
   "id": "63d7fa15",
   "metadata": {},
   "outputs": [],
   "source": [
    "member_group_manual = member_group_cluster.drop('cluster',axis=1)\n",
    "member_group_manual.head()"
   ]
  },
  {
   "cell_type": "code",
   "execution_count": null,
   "id": "78acf1d6",
   "metadata": {},
   "outputs": [],
   "source": [
    "member_group_manual.describe(percentiles=[.10,.25,.50,.75,.90])"
   ]
  },
  {
   "cell_type": "markdown",
   "id": "1076fb43",
   "metadata": {},
   "source": [
    "We'll consider low cost to be less than average ($1,710) and low utilization to be less than average (12)"
   ]
  },
  {
   "cell_type": "code",
   "execution_count": null,
   "id": "ccfb0305",
   "metadata": {},
   "outputs": [],
   "source": [
    "# low cost, low utilizers (lclu) - 25% for # services and charges\n",
    "lclu = (member_group_manual['Num Lines']<=12) & (member_group_manual['Eligible Charges']<=1710)\n",
    "\n",
    "# high cost, low utilizers (hclu) - >75% for charges, 25% for # services\n",
    "hclu = (member_group_manual['Num Lines']<=12) & (member_group_manual['Eligible Charges']>1710)\n",
    "\n",
    "# low cost, high utilizers (lchu) - 25% for charges, 75% for # services\n",
    "lchu = (member_group_manual['Num Lines']>12) & (member_group_manual['Eligible Charges']<=1710)\n",
    "\n",
    "# high cost, high utilizers (hchu) - 75% for charges and # services\n",
    "hchu = (member_group_manual['Num Lines']>12) & (member_group_manual['Eligible Charges']>1710)"
   ]
  },
  {
   "cell_type": "markdown",
   "id": "fb7187b1",
   "metadata": {},
   "source": [
    "Let's check to make sure we capture all members"
   ]
  },
  {
   "cell_type": "code",
   "execution_count": null,
   "id": "c80174b4",
   "metadata": {},
   "outputs": [],
   "source": [
    "member_group_manual.shape[0]"
   ]
  },
  {
   "cell_type": "code",
   "execution_count": null,
   "id": "b1f640cf",
   "metadata": {},
   "outputs": [],
   "source": [
    "member_group_manual[lclu].shape[0] + member_group_manual[hclu].shape[0] + member_group_manual[lchu].shape[0] + member_group_manual[hchu].shape[0]"
   ]
  },
  {
   "cell_type": "code",
   "execution_count": null,
   "id": "5827ac6e",
   "metadata": {
    "scrolled": true
   },
   "outputs": [],
   "source": [
    "member_group_manual.head()"
   ]
  },
  {
   "cell_type": "code",
   "execution_count": null,
   "id": "2d81d1f5",
   "metadata": {},
   "outputs": [],
   "source": [
    "# add columns with our group labels\n",
    "member_group_manual_lclu = member_group_manual[lclu].copy()\n",
    "member_group_manual_lclu['group'] = 'lclu'\n",
    "\n",
    "member_group_manual_hclu = member_group_manual[hclu].copy()\n",
    "member_group_manual_hclu['group'] = 'hclu'\n",
    "\n",
    "member_group_manual_lchu = member_group_manual[lchu].copy()\n",
    "member_group_manual_lchu['group'] = 'lchu'\n",
    "\n",
    "member_group_manual_hchu = member_group_manual[hchu].copy()\n",
    "member_group_manual_hchu['group'] = 'hchu'"
   ]
  },
  {
   "cell_type": "code",
   "execution_count": null,
   "id": "f8f94ed1",
   "metadata": {},
   "outputs": [],
   "source": [
    "# combine group dfs\n",
    "member_group_manual = pd.concat([member_group_manual_lclu,member_group_manual_hclu,\n",
    "                                member_group_manual_lchu,member_group_manual_hchu])"
   ]
  },
  {
   "cell_type": "code",
   "execution_count": null,
   "id": "6b9c809f",
   "metadata": {},
   "outputs": [],
   "source": [
    "member_group_manual.head()"
   ]
  },
  {
   "cell_type": "code",
   "execution_count": null,
   "id": "72cc964a",
   "metadata": {},
   "outputs": [],
   "source": [
    "# convert group to category\n",
    "member_group_manual['group'] = member_group_manual['group'].astype('category')"
   ]
  },
  {
   "cell_type": "code",
   "execution_count": null,
   "id": "faba6f59",
   "metadata": {},
   "outputs": [],
   "source": [
    "member_group_manual.dtypes"
   ]
  },
  {
   "cell_type": "code",
   "execution_count": null,
   "id": "e44d2125",
   "metadata": {
    "scrolled": true
   },
   "outputs": [],
   "source": [
    "# visualize our groups\n",
    "# fig, ax = plt.subplots(figsize=(6,6))\n",
    "colors = {'lclu':'green','hclu':'yellow','lchu':'blue','hchu':'red'}\n",
    "# #member_group_manual.plot.scatter('Num Lines', 'Eligible Charges', c=member_group_manual['group'].map(colors), figsize=(10,10));\n",
    "# ax.scatter(member_group_manual['Num Lines'], member_group_manual['Eligible Charges'], c=member_group_manual['group'].map(colors))\n",
    "# ax.ticklabel_format(style='plain')\n",
    "# plt.show()\n",
    "\n",
    "fig = plt.figure(figsize=(15,6))\n",
    "\n",
    "ax1 = fig.add_subplot(121)\n",
    "ax1.scatter(member_group_manual['Num Lines'], member_group_manual['Eligible Charges'], c=member_group_manual['group'].map(colors))\n",
    "ax1.ticklabel_format(style='plain')\n",
    "\n",
    "ax2 = fig.add_subplot(122)\n",
    "ax2.scatter(member_group_manual['Num Lines'], member_group_manual['Eligible Charges'], c=member_group_manual['group'].map(colors))\n",
    "ax2.axis([0,500,0,500000])\n",
    "\n",
    "plt.show()\n"
   ]
  },
  {
   "cell_type": "code",
   "execution_count": null,
   "id": "c91ec8b2",
   "metadata": {},
   "outputs": [],
   "source": [
    "member_group_manual['group'].value_counts()"
   ]
  },
  {
   "cell_type": "code",
   "execution_count": null,
   "id": "574cd6a2",
   "metadata": {},
   "outputs": [],
   "source": [
    "member_group_manual['group'].value_counts(normalize=True)*100"
   ]
  },
  {
   "cell_type": "code",
   "execution_count": null,
   "id": "9dee83f4",
   "metadata": {},
   "outputs": [],
   "source": [
    "plt.scatter(member_group_manual_lclu['Num Lines'], member_group_manual_lclu['Eligible Charges']);"
   ]
  },
  {
   "cell_type": "code",
   "execution_count": null,
   "id": "2e430f9c",
   "metadata": {},
   "outputs": [],
   "source": [
    "plt.figure(figsize=(6,6))\n",
    "plt.scatter(member_group_manual['Num Lines'], member_group_manual['Eligible Charges'])\n",
    "plt.axvline(12,c='r')\n",
    "plt.axhline(1710,c='r')\n",
    "plt.ticklabel_format(style='plain')\n",
    "plt.axis([0,500,0,100000])\n",
    "plt.show()"
   ]
  },
  {
   "cell_type": "code",
   "execution_count": null,
   "id": "43d64247",
   "metadata": {},
   "outputs": [],
   "source": [
    "# % of members with more than 100 lines\n",
    "(member_group_manual['Num Lines']>100).sum()/len(member_group_manual)"
   ]
  },
  {
   "cell_type": "code",
   "execution_count": null,
   "id": "23e3a64b",
   "metadata": {},
   "outputs": [],
   "source": [
    "# % of members with more than 100 lines\n",
    "(member_group_manual['Eligible Charges']>500000).sum()/len(member_group_manual)"
   ]
  },
  {
   "cell_type": "markdown",
   "id": "d83dace2",
   "metadata": {},
   "source": [
    "## Analysis"
   ]
  },
  {
   "cell_type": "code",
   "execution_count": null,
   "id": "0880e21c",
   "metadata": {},
   "outputs": [],
   "source": [
    "member_group_manual['group'].value_counts()"
   ]
  },
  {
   "cell_type": "code",
   "execution_count": null,
   "id": "f772b22e",
   "metadata": {
    "scrolled": true
   },
   "outputs": [],
   "source": [
    "member_group_manual"
   ]
  },
  {
   "cell_type": "code",
   "execution_count": null,
   "id": "53eac514",
   "metadata": {},
   "outputs": [],
   "source": [
    "# get list of members for each group\n",
    "lclu_members = list(member_group_manual[lclu].index)\n",
    "hclu_members = list(member_group_manual[hclu].index)\n",
    "lchu_members = list(member_group_manual[lchu].index)\n",
    "hchu_members = list(member_group_manual[hchu].index)\n",
    "print(lclu_members[:10])\n",
    "print(hclu_members[:10])\n",
    "print(lchu_members[:10])\n",
    "print(hchu_members[:10])"
   ]
  },
  {
   "cell_type": "code",
   "execution_count": null,
   "id": "5a01c8b3",
   "metadata": {},
   "outputs": [],
   "source": [
    "# create dataframes with line items for each member group\n",
    "lclu_claims = claims_data[claims_data['MEMBER_ID'].isin(lclu_members)]\n",
    "hclu_claims = claims_data[claims_data['MEMBER_ID'].isin(hclu_members)]\n",
    "lchu_claims = claims_data[claims_data['MEMBER_ID'].isin(lchu_members)]\n",
    "hchu_claims = claims_data[claims_data['MEMBER_ID'].isin(hchu_members)]"
   ]
  },
  {
   "cell_type": "markdown",
   "id": "2c5421f8",
   "metadata": {},
   "source": [
    "Find each group's % of total services and total cost"
   ]
  },
  {
   "cell_type": "code",
   "execution_count": null,
   "id": "bb94de11",
   "metadata": {},
   "outputs": [],
   "source": [
    "# calculate total # line items and charges for the entire patient population\n",
    "print(claims_data.shape[0])\n",
    "print(claims_data['Eligible Charges'].sum())"
   ]
  },
  {
   "cell_type": "code",
   "execution_count": null,
   "id": "06a53f46",
   "metadata": {},
   "outputs": [],
   "source": [
    "# calculate each groups # line items and charges\n",
    "groups = [lclu_claims, hclu_claims, lchu_claims, hchu_claims]\n",
    "group_items = {}\n",
    "group_charges = {}\n",
    "for i,group in enumerate(groups):\n",
    "    group_items[i] = group.shape[0]\n",
    "    group_charges[i] = group['Eligible Charges'].sum()"
   ]
  },
  {
   "cell_type": "code",
   "execution_count": null,
   "id": "373a3bb6",
   "metadata": {},
   "outputs": [],
   "source": [
    "group_items"
   ]
  },
  {
   "cell_type": "code",
   "execution_count": null,
   "id": "c2dcbbce",
   "metadata": {},
   "outputs": [],
   "source": [
    "group_charges"
   ]
  },
  {
   "cell_type": "code",
   "execution_count": null,
   "id": "bd66736a",
   "metadata": {},
   "outputs": [],
   "source": [
    "# calculate % of total items\n",
    "group_items_pct = {}\n",
    "for key,value in group_items.items():\n",
    "    group_items_pct[key] = value / claims_data.shape[0]"
   ]
  },
  {
   "cell_type": "code",
   "execution_count": null,
   "id": "d4ac38dd",
   "metadata": {},
   "outputs": [],
   "source": [
    "# calculate % of total charges\n",
    "group_charge_pct = {}\n",
    "for key,value in group_charges.items():\n",
    "    group_charge_pct[key] = value / claims_data['Eligible Charges'].sum()"
   ]
  },
  {
   "cell_type": "code",
   "execution_count": null,
   "id": "edf4cc46",
   "metadata": {},
   "outputs": [],
   "source": [
    "print(group_items_pct)\n",
    "print(group_charge_pct)"
   ]
  },
  {
   "cell_type": "markdown",
   "id": "6240d810",
   "metadata": {},
   "source": [
    "Quick dive into High cost, low utilizers - we'd expect charges to reflect either traumatic injuries or serious conditions that require infrequent, but expensive treatment. Much of these costs may be unpreventable."
   ]
  },
  {
   "cell_type": "code",
   "execution_count": null,
   "id": "006f6454",
   "metadata": {},
   "outputs": [],
   "source": [
    "hclu_charges = hclu_claims[['MEMBER_ID','CLAIM_ID','PROC_CD','DRG_CODE','DIAG1_CD','Eligible Charges']].sort_values('Eligible Charges',ascending=False)\n",
    "hclu_charges"
   ]
  },
  {
   "cell_type": "code",
   "execution_count": null,
   "id": "131938c5",
   "metadata": {},
   "outputs": [],
   "source": [
    "# filter for highest charges\n",
    "hclu_charges.head(20)"
   ]
  },
  {
   "cell_type": "markdown",
   "id": "334a9441",
   "metadata": {},
   "source": [
    "Find the most common CPT/Dx code combinations for Groups: HCLU, LCHU, HCHU"
   ]
  },
  {
   "cell_type": "code",
   "execution_count": null,
   "id": "2087d2ce",
   "metadata": {},
   "outputs": [],
   "source": [
    "# group 2: HCLU\n",
    "hclu_cpt_dx_combs = hclu_claims.groupby(['PROC_CD','DIAG1_CD']).size().sort_values(ascending=False)\n",
    "hclu_cpt_dx_combs.head(20).sort_values(ascending=True).plot.barh(figsize=(6,6))\n",
    "plt.title('High Cost, Low Utilizers - Top 20 CPT/DX Code Combinations')\n",
    "plt.xlabel('Count')\n",
    "plt.ylabel('CPT, DX')\n",
    "plt.show()"
   ]
  },
  {
   "cell_type": "code",
   "execution_count": null,
   "id": "f7c8836a",
   "metadata": {},
   "outputs": [],
   "source": [
    "# for HCLU patients, we're more interested in the highest cost services, not just the most common\n",
    "# so let's filter the top code combinations for those with associated average charges above the mean\n",
    "\n",
    "# first, we'll find the average service charge in the hclu claims group\n",
    "hclu_claims['Eligible Charges'].mean()"
   ]
  },
  {
   "cell_type": "code",
   "execution_count": null,
   "id": "2a57a5d2",
   "metadata": {},
   "outputs": [],
   "source": [
    "# then, we'll filter our code combinations\n",
    "hclu_claims_high_cost = hclu_claims[hclu_claims['Eligible Charges']>450]\n",
    "hclu_cpt_dx_combs_high_cost = hclu_claims_high_cost.groupby(['PROC_CD','DIAG1_CD']).size().sort_values(ascending=False)\n",
    "hclu_cpt_dx_combs_high_cost.head(20).sort_values(ascending=True).plot.barh(figsize=(6,6))\n",
    "plt.title('HCLU Top 20 CPT/DX Code Combinations, Charges > 50%')\n",
    "plt.xlabel('Count')\n",
    "plt.ylabel('CPT, DX')\n",
    "plt.show()"
   ]
  },
  {
   "cell_type": "code",
   "execution_count": null,
   "id": "605aff78",
   "metadata": {},
   "outputs": [],
   "source": [
    "# looks like there's high variability with the 77067 charge\n",
    "cpt_77067_lines = claims_data[claims_data['PROC_CD']==77067]\n",
    "cpt_77067_lines['Eligible Charges'].describe()"
   ]
  },
  {
   "cell_type": "markdown",
   "id": "f3d28b25",
   "metadata": {},
   "source": [
    "Indeed, std = 154.28, and the charge can range from 38.75 to 1,337.51. Let's see if there's any correlation with cost of cpt 77067 and other variables."
   ]
  },
  {
   "cell_type": "code",
   "execution_count": null,
   "id": "2f118ead",
   "metadata": {},
   "outputs": [],
   "source": [
    "cpt_77067_lines.corr()['Eligible Charges']"
   ]
  },
  {
   "cell_type": "markdown",
   "id": "1355529c",
   "metadata": {},
   "source": [
    "Looks like there's a strong correlation with a few different variables: PROV_NPI, PROV_ZIP, MEMBER_ZIP, and SERVICE_COUNT"
   ]
  },
  {
   "cell_type": "code",
   "execution_count": null,
   "id": "e35e2656",
   "metadata": {},
   "outputs": [],
   "source": [
    "len(cpt_77067_lines['PROV_CITY'].unique())"
   ]
  },
  {
   "cell_type": "code",
   "execution_count": null,
   "id": "a51b0680",
   "metadata": {},
   "outputs": [],
   "source": [
    "cpt_77067_lines.groupby('PROV_CITY')['Eligible Charges'].mean()"
   ]
  },
  {
   "cell_type": "code",
   "execution_count": null,
   "id": "7a9a886b",
   "metadata": {
    "scrolled": false
   },
   "outputs": [],
   "source": [
    "cpt_77067_lines.groupby('PROV_ST')['Eligible Charges'].mean().sort_values().plot.barh(figsize=(8,10))\n",
    "plt.title('Average Charge for CPT 77067 by State')\n",
    "plt.xlabel('Mean Charge')\n",
    "plt.ylabel('Provider State')\n",
    "plt.show()"
   ]
  },
  {
   "cell_type": "code",
   "execution_count": null,
   "id": "efd550f7",
   "metadata": {},
   "outputs": [],
   "source": [
    "cpt_77067_lines.groupby('PROV_NAME')['Eligible Charges'].mean().sort_values(ascending=False)"
   ]
  },
  {
   "cell_type": "code",
   "execution_count": null,
   "id": "7c746daa",
   "metadata": {},
   "outputs": [],
   "source": [
    "# filter for providers in CO and WY\n",
    "cpt_77067_lines_WY_CO = cpt_77067_lines[(cpt_77067_lines['PROV_ST']=='WY') | (cpt_77067_lines['PROV_ST']=='CO')]\n",
    "cpt_77067_lines_WY_CO.groupby('PROV_NAME')['Eligible Charges'].mean().sort_values(ascending=False)"
   ]
  },
  {
   "cell_type": "code",
   "execution_count": null,
   "id": "040e5516",
   "metadata": {},
   "outputs": [],
   "source": [
    "cpt_77067_lines_WY_CO.corr()['Eligible Charges']"
   ]
  },
  {
   "cell_type": "code",
   "execution_count": null,
   "id": "f0794349",
   "metadata": {},
   "outputs": [],
   "source": [
    "cpt_77067_lines_WY_CO.groupby('PLACE_OF_SERVICE').mean()"
   ]
  },
  {
   "cell_type": "code",
   "execution_count": null,
   "id": "74a74852",
   "metadata": {},
   "outputs": [],
   "source": [
    "ax = cpt_77067_lines_WY_CO.groupby('PLACE_OF_SERVICE').mean()['Eligible Charges'].sort_values(ascending=False).plot.bar(rot=0)\n",
    "ax.set(xlabel='Place of Service', ylabel='Average Charge ($)', title='Average Charge for CPT 77067 by Place of Service (WY & CO)');"
   ]
  },
  {
   "cell_type": "code",
   "execution_count": null,
   "id": "ac0848b7",
   "metadata": {},
   "outputs": [],
   "source": [
    "# group 3: LCHU\n",
    "lchu_cpt_dx_combs = lchu_claims.groupby(['PROC_CD','DIAG1_CD']).size().sort_values(ascending=False)\n",
    "lchu_cpt_dx_combs.head(20).sort_values(ascending=True).plot.barh(figsize=(6,6))\n",
    "plt.title('Low Cost, High Utilizers - Top 20 CPT/DX Code Combinations')\n",
    "plt.xlabel('Count')\n",
    "plt.ylabel('CPT, DX')\n",
    "plt.show()"
   ]
  },
  {
   "cell_type": "code",
   "execution_count": null,
   "id": "600ab8c7",
   "metadata": {},
   "outputs": [],
   "source": [
    "# group 3: HCHU\n",
    "hchu_cpt_dx_combs = hchu_claims.groupby(['PROC_CD','DIAG1_CD']).size().sort_values(ascending=False)\n",
    "hchu_cpt_dx_combs.head(20).sort_values(ascending=True).plot.barh(figsize=(6,6))\n",
    "plt.title('High Cost, High Utilizers - Top 20 CPT/DX Code Combinations')\n",
    "plt.xlabel('Count')\n",
    "plt.ylabel('CPT, DX')\n",
    "plt.show()"
   ]
  },
  {
   "cell_type": "code",
   "execution_count": null,
   "id": "ef023638",
   "metadata": {},
   "outputs": [],
   "source": [
    "hchu_claims['Eligible Charges'].mean()"
   ]
  },
  {
   "cell_type": "code",
   "execution_count": null,
   "id": "d8219fba",
   "metadata": {},
   "outputs": [],
   "source": [
    "hchu_claims_high_cost = hchu_claims[hchu_claims['Eligible Charges']>512]\n",
    "hchu_cpt_dx_combs_high_cost = hchu_claims_high_cost.groupby(['PROC_CD','DIAG1_CD']).size().sort_values(ascending=False)\n",
    "hchu_cpt_dx_combs_high_cost.head(20).sort_values(ascending=True).plot.barh(figsize=(6,6))\n",
    "plt.title('HCHU Top 20 CPT/DX Code Combinations, Charges > 50%')\n",
    "plt.xlabel('Count')\n",
    "plt.ylabel('CPT, DX')\n",
    "plt.show()"
   ]
  },
  {
   "cell_type": "code",
   "execution_count": null,
   "id": "cb428a87",
   "metadata": {},
   "outputs": [],
   "source": [
    "cpt_98941_lines = claims_data[claims_data['PROC_CD']==98941]\n",
    "cpt_98941_lines['Eligible Charges'].describe()"
   ]
  },
  {
   "cell_type": "code",
   "execution_count": null,
   "id": "5552a80c",
   "metadata": {},
   "outputs": [],
   "source": [
    "cpt_98941_lines.corr()['Eligible Charges']"
   ]
  },
  {
   "cell_type": "code",
   "execution_count": null,
   "id": "4b139d43",
   "metadata": {
    "scrolled": true
   },
   "outputs": [],
   "source": [
    "cpt_98941_lines.groupby('PROV_NAME')['Eligible Charges'].mean().sort_values(ascending=False)"
   ]
  },
  {
   "cell_type": "code",
   "execution_count": null,
   "id": "f0950acf",
   "metadata": {},
   "outputs": [],
   "source": [
    "cpt_98941_lines.groupby('DRG_CODE')['Eligible Charges'].mean().sort_values(ascending=False)"
   ]
  },
  {
   "cell_type": "code",
   "execution_count": null,
   "id": "6e62775e",
   "metadata": {},
   "outputs": [],
   "source": [
    "ax = cpt_98941_lines.groupby('DRG_CODE')['Eligible Charges'].mean().sort_values(ascending=False).plot.bar(rot=0)\n",
    "ax.set(xlabel='DRG Code', ylabel='Average Charge ($)', title='Average Charge for CPT 98941 by DRG Code')\n",
    "ax.text(-0.15,129,'126.39')\n",
    "ax.text(0.85,70,'68.00')\n",
    "ax.text(1.85,61,'58.79')\n",
    "ax.set_ylim([0,140]);"
   ]
  }
 ],
 "metadata": {
  "kernelspec": {
   "display_name": "Python 3",
   "language": "python",
   "name": "python3"
  },
  "language_info": {
   "codemirror_mode": {
    "name": "ipython",
    "version": 3
   },
   "file_extension": ".py",
   "mimetype": "text/x-python",
   "name": "python",
   "nbconvert_exporter": "python",
   "pygments_lexer": "ipython3",
   "version": "3.8.8"
  }
 },
 "nbformat": 4,
 "nbformat_minor": 5
}
